{
 "cells": [
  {
   "cell_type": "code",
   "execution_count": 1,
   "metadata": {
    "collapsed": true
   },
   "outputs": [],
   "source": [
    "import numpy as np\n",
    "import pandas as pd\n",
    "import matplotlib.pyplot as plt\n",
    "import seaborn as sns\n",
    "from sklearn.tree import DecisionTreeClassifier\n",
    "from sklearn.ensemble import GradientBoostingClassifier\n",
    "from sklearn.ensemble import RandomForestClassifier\n",
    "from sklearn import model_selection\n",
    "from sklearn.model_selection import GridSearchCV\n",
    "from timeit import default_timer as timer\n",
    "%matplotlib inline"
   ]
  },
  {
   "cell_type": "code",
   "execution_count": 2,
   "metadata": {
    "collapsed": true
   },
   "outputs": [],
   "source": [
    "with open(\"us_census_full/census_income_metadata.txt\") as f:\n",
    "    lines = f.readlines()\n",
    "header_lines = lines[142:]\n",
    "headers = [line.split(\":\")[0].replace(\" \", \"_\") for line in header_lines]\n",
    "headers.remove('|_instance_weight')\n",
    "headers.append('earnings')"
   ]
  },
  {
   "cell_type": "code",
   "execution_count": 3,
   "metadata": {
    "collapsed": true
   },
   "outputs": [],
   "source": [
    "df_train = pd.read_csv(\"us_census_full/census_income_learn.csv\", names=headers)"
   ]
  },
  {
   "cell_type": "code",
   "execution_count": 4,
   "metadata": {
    "collapsed": true
   },
   "outputs": [],
   "source": [
    "df_test = pd.read_csv(\"us_census_full/census_income_test.csv\", names=headers)"
   ]
  },
  {
   "cell_type": "code",
   "execution_count": 5,
   "metadata": {
    "collapsed": true
   },
   "outputs": [],
   "source": [
    "del df_train['instance_weight']\n",
    "del df_test['instance_weight']"
   ]
  },
  {
   "cell_type": "code",
   "execution_count": 6,
   "metadata": {
    "collapsed": true
   },
   "outputs": [],
   "source": [
    "df_train['is_duplicated'] = df_train.duplicated(list(df_train)[:-1])"
   ]
  },
  {
   "cell_type": "code",
   "execution_count": 7,
   "metadata": {
    "collapsed": true
   },
   "outputs": [],
   "source": [
    "df_test['is_duplicated'] = df_test.duplicated(list(df_test)[:-1])"
   ]
  },
  {
   "cell_type": "code",
   "execution_count": 8,
   "metadata": {
    "collapsed": true
   },
   "outputs": [],
   "source": [
    "df_train_unique = df_train.loc[df_train['is_duplicated'] == False]\n",
    "del df_train_unique['is_duplicated']"
   ]
  },
  {
   "cell_type": "code",
   "execution_count": 9,
   "metadata": {
    "collapsed": true
   },
   "outputs": [],
   "source": [
    "df_test_unique = df_test.loc[df_test['is_duplicated'] == False]\n",
    "del df_test_unique['is_duplicated']"
   ]
  },
  {
   "cell_type": "code",
   "execution_count": 10,
   "metadata": {
    "collapsed": false
   },
   "outputs": [
    {
     "data": {
      "text/plain": [
       "(152807, 41)"
      ]
     },
     "execution_count": 10,
     "metadata": {},
     "output_type": "execute_result"
    }
   ],
   "source": [
    "df_train_unique.shape"
   ]
  },
  {
   "cell_type": "code",
   "execution_count": 11,
   "metadata": {
    "collapsed": true
   },
   "outputs": [],
   "source": [
    "earnings_vals = df_train['earnings'].unique()"
   ]
  },
  {
   "cell_type": "code",
   "execution_count": 12,
   "metadata": {
    "collapsed": false
   },
   "outputs": [
    {
     "data": {
      "text/plain": [
       "array([' - 50000.', ' 50000+.'], dtype=object)"
      ]
     },
     "execution_count": 12,
     "metadata": {},
     "output_type": "execute_result"
    }
   ],
   "source": [
    "earnings_vals"
   ]
  },
  {
   "cell_type": "code",
   "execution_count": 13,
   "metadata": {
    "collapsed": true
   },
   "outputs": [],
   "source": [
    "df_train_new = df_train_unique.copy()\n",
    "df_test_new = df_test_unique.copy()"
   ]
  },
  {
   "cell_type": "code",
   "execution_count": 14,
   "metadata": {
    "collapsed": true
   },
   "outputs": [],
   "source": [
    "df_train_new['Y'] = df_train_new['earnings'] == earnings_vals[1]\n",
    "df_test_new['Y'] = df_test_new['earnings'] == earnings_vals[1]"
   ]
  },
  {
   "cell_type": "code",
   "execution_count": 15,
   "metadata": {
    "collapsed": true
   },
   "outputs": [],
   "source": [
    "del df_train_new['earnings']\n",
    "del df_test_new['earnings']"
   ]
  },
  {
   "cell_type": "code",
   "execution_count": 16,
   "metadata": {
    "collapsed": true
   },
   "outputs": [],
   "source": [
    "Y_train = df_train_new['Y']\n",
    "Y_test = df_test_new['Y']"
   ]
  },
  {
   "cell_type": "code",
   "execution_count": 17,
   "metadata": {
    "collapsed": true
   },
   "outputs": [],
   "source": [
    "del df_train_new['Y']\n",
    "del df_test_new['Y']"
   ]
  },
  {
   "cell_type": "code",
   "execution_count": 18,
   "metadata": {
    "collapsed": true
   },
   "outputs": [],
   "source": [
    "# Ok now let's 1-hot encode all object variables, even including missing data"
   ]
  },
  {
   "cell_type": "code",
   "execution_count": 19,
   "metadata": {
    "collapsed": false
   },
   "outputs": [
    {
     "data": {
      "text/plain": [
       "(152807, 40)"
      ]
     },
     "execution_count": 19,
     "metadata": {},
     "output_type": "execute_result"
    }
   ],
   "source": [
    "df_train_new.shape"
   ]
  },
  {
   "cell_type": "code",
   "execution_count": 20,
   "metadata": {
    "collapsed": true
   },
   "outputs": [],
   "source": [
    "train_size = len(df_train_new)"
   ]
  },
  {
   "cell_type": "code",
   "execution_count": 21,
   "metadata": {
    "collapsed": true
   },
   "outputs": [],
   "source": [
    "full_data = pd.concat([df_train_new, df_test_new])\n",
    "full_data_objects = full_data.select_dtypes(include=['object'])\n",
    "for col in full_data_objects:\n",
    "    new_df = pd.get_dummies(full_data[col], prefix=col)\n",
    "    full_data = pd.concat([full_data, new_df], axis=1)\n",
    "    del full_data[col]\n",
    "df_train_new = full_data[0:train_size].copy()\n",
    "df_test_new = full_data[train_size:].copy()"
   ]
  },
  {
   "cell_type": "code",
   "execution_count": 22,
   "metadata": {
    "collapsed": false
   },
   "outputs": [
    {
     "data": {
      "text/plain": [
       "(152807, 408)"
      ]
     },
     "execution_count": 22,
     "metadata": {},
     "output_type": "execute_result"
    }
   ],
   "source": [
    "df_train_new.shape"
   ]
  },
  {
   "cell_type": "code",
   "execution_count": 23,
   "metadata": {
    "collapsed": true
   },
   "outputs": [],
   "source": [
    "# I'm going to use a grid search to test some different parameters on the full dataset"
   ]
  },
  {
   "cell_type": "markdown",
   "metadata": {},
   "source": [
    "## Decision tree"
   ]
  },
  {
   "cell_type": "code",
   "execution_count": null,
   "metadata": {
    "collapsed": false
   },
   "outputs": [],
   "source": [
    "dec_tree = DecisionTreeClassifier(random_state=0)\n",
    "dec_tree_parameters = [{'class_weight': [None, \"balanced\"],\n",
    "                        'max_depth': [3, 5, 10],\n",
    "                        'max_features': [30, 100, 300],\n",
    "                        'min_samples_leaf': [1, 5, 10]}]\n",
    "\n",
    "dec_tree_clf = GridSearchCV(dec_tree, dec_tree_parameters, cv=5, scoring=\"accuracy\", n_jobs=2)\n",
    "dec_tree_clf.fit(df_train_new,Y_train)\n",
    "best_estimator = dec_tree_clf.best_estimator_"
   ]
  },
  {
   "cell_type": "code",
   "execution_count": 29,
   "metadata": {
    "collapsed": false
   },
   "outputs": [
    {
     "name": "stdout",
     "output_type": "stream",
     "text": [
      "Best score: 0.936998959472\n",
      "Best hyperparameters: {'class_weight': None, 'max_features': 300, 'max_depth': 10, 'min_samples_leaf': 10}\n"
     ]
    }
   ],
   "source": [
    "print('Best score: ' + str(dec_tree_clf.best_score_))\n",
    "print('Best hyperparameters: ' + str(dec_tree_clf.best_params_))"
   ]
  },
  {
   "cell_type": "markdown",
   "metadata": {},
   "source": [
    "## Boosted decision tree"
   ]
  },
  {
   "cell_type": "code",
   "execution_count": 36,
   "metadata": {
    "collapsed": false
   },
   "outputs": [
    {
     "name": "stdout",
     "output_type": "stream",
     "text": [
      "Fitting 5 folds for each of 3 candidates, totalling 15 fits\n"
     ]
    },
    {
     "name": "stderr",
     "output_type": "stream",
     "text": [
      "[Parallel(n_jobs=2)]: Done  15 out of  15 | elapsed: 349.2min finished\n"
     ]
    },
    {
     "name": "stdout",
     "output_type": "stream",
     "text": [
      "Time to run 5 CV, 3 combos:  23811.57471499199\n"
     ]
    }
   ],
   "source": [
    "start = timer()\n",
    "\n",
    "boost_tree = GradientBoostingClassifier(random_state=0)\n",
    "boost_tree_parameters = [{'max_depth': [10], # 3, 5\n",
    "                         'max_features': [300], # 30, 100, \n",
    "                         'min_samples_leaf': [10], # 1, 5, \n",
    "                         'n_estimators': [50, 100, 500]}] # 20\n",
    "\n",
    "boost_tree_clf = GridSearchCV(boost_tree, boost_tree_parameters, cv=5, scoring=\"accuracy\", n_jobs=2, verbose=1)\n",
    "boost_tree_clf.fit(df_train_new,Y_train)\n",
    "best_estimator_boost = boost_tree_clf.best_estimator_\n",
    "\n",
    "end = timer()\n",
    "print(\"Time to run 5 CV, 3 combos: \", end - start) "
   ]
  },
  {
   "cell_type": "code",
   "execution_count": null,
   "metadata": {
    "collapsed": false
   },
   "outputs": [
    {
     "name": "stdout",
     "output_type": "stream",
     "text": [
      "Best score: 0.944446262279\n",
      "Best hyperparameters: {'max_features': 300, 'max_depth': 10, 'n_estimators': 100, 'min_samples_leaf': 10}\n"
     ]
    }
   ],
   "source": [
    "print('Best score: ' + str(boost_tree_clf.best_score_))\n",
    "print('Best hyperparameters: ' + str(boost_tree_clf.best_params_))"
   ]
  },
  {
   "cell_type": "markdown",
   "metadata": {},
   "source": [
    "## Random Forest"
   ]
  },
  {
   "cell_type": "code",
   "execution_count": 24,
   "metadata": {
    "collapsed": false
   },
   "outputs": [
    {
     "name": "stdout",
     "output_type": "stream",
     "text": [
      "Fitting 5 folds for each of 3 candidates, totalling 15 fits\n"
     ]
    },
    {
     "name": "stderr",
     "output_type": "stream",
     "text": [
      "[Parallel(n_jobs=2)]: Done  15 out of  15 | elapsed: 100.4min finished\n"
     ]
    },
    {
     "name": "stdout",
     "output_type": "stream",
     "text": [
      "Time to run 5 CV, 3 combos:  6342.686642062999\n"
     ]
    }
   ],
   "source": [
    "start = timer()\n",
    "\n",
    "rand_for = RandomForestClassifier(random_state=0)\n",
    "rand_for_parameters = [{'max_depth': [10], #3, 5, \n",
    "                        'max_features': [300], # 30, 100, \n",
    "                        'min_samples_leaf': [10], # 1, 5, \n",
    "                        'n_estimators': [50, 100, 500]}] # 20, \n",
    "\n",
    "rand_for_clf = GridSearchCV(rand_for, rand_for_parameters, cv=5, scoring=\"accuracy\", n_jobs=2, verbose=1)\n",
    "rand_for_clf.fit(df_train_new,Y_train)\n",
    "best_estimator_rand_for = rand_for_clf.best_estimator_\n",
    "\n",
    "end = timer()\n",
    "print(\"Time to run 5 CV, 3 combos: \", end - start) "
   ]
  },
  {
   "cell_type": "code",
   "execution_count": 25,
   "metadata": {
    "collapsed": false
   },
   "outputs": [
    {
     "name": "stdout",
     "output_type": "stream",
     "text": [
      "Best score: 0.938988397128\n",
      "Best hyperparameters: {'max_features': 300, 'max_depth': 10, 'n_estimators': 100, 'min_samples_leaf': 10}\n"
     ]
    }
   ],
   "source": [
    "print('Best score: ' + str(rand_for_clf.best_score_))\n",
    "print('Best hyperparameters: ' + str(rand_for_clf.best_params_))"
   ]
  }
 ],
 "metadata": {
  "anaconda-cloud": {},
  "kernelspec": {
   "display_name": "Python [conda env:USCensus]",
   "language": "python",
   "name": "conda-env-USCensus-py"
  },
  "language_info": {
   "codemirror_mode": {
    "name": "ipython",
    "version": 3
   },
   "file_extension": ".py",
   "mimetype": "text/x-python",
   "name": "python",
   "nbconvert_exporter": "python",
   "pygments_lexer": "ipython3",
   "version": "3.5.4"
  }
 },
 "nbformat": 4,
 "nbformat_minor": 0
}
